{
 "cells": [
  {
   "cell_type": "code",
   "execution_count": 9,
   "metadata": {},
   "outputs": [],
   "source": [
    "import numpy as np"
   ]
  },
  {
   "cell_type": "markdown",
   "metadata": {},
   "source": [
    "## Creando arrays\n",
    "\n",
    "Con la librería NumPy se pueden crear diferentes tipos de arreglos de diferentes dimensiones, tal como si fueran matrices.\n",
    "\n",
    "Para crear un array de 0 dimensiones, lo que podríamos conocer como un escalar, se realiza de la forma siguiente:\n",
    "\n",
    "$A_{0} = 0$"
   ]
  },
  {
   "cell_type": "code",
   "execution_count": 41,
   "metadata": {},
   "outputs": [
    {
     "name": "stdout",
     "output_type": "stream",
     "text": [
      "A = 0\n"
     ]
    }
   ],
   "source": [
    "A0 = np.array(0)\n",
    "print(\"A =\", A0)"
   ]
  },
  {
   "cell_type": "markdown",
   "metadata": {},
   "source": [
    "Este array tiene 0 filas y 0 columnas. Esto se puede conocer con el método `shape`."
   ]
  },
  {
   "cell_type": "code",
   "execution_count": 28,
   "metadata": {},
   "outputs": [
    {
     "data": {
      "text/plain": [
       "()"
      ]
     },
     "execution_count": 28,
     "metadata": {},
     "output_type": "execute_result"
    }
   ],
   "source": [
    "A0.shape"
   ]
  },
  {
   "cell_type": "markdown",
   "metadata": {},
   "source": [
    "Para crear un array de 1 dimensión, se deberá contener su valor entre corchetes. Esta matriz tendrá un renglón y una columna.\n",
    "\n",
    "$A_1 = [1]$"
   ]
  },
  {
   "cell_type": "code",
   "execution_count": 46,
   "metadata": {},
   "outputs": [
    {
     "name": "stdout",
     "output_type": "stream",
     "text": [
      "A = [1]\n",
      "\n",
      "Este arreglo tiene 1 dimensión.\n"
     ]
    }
   ],
   "source": [
    "A1 = np.array([1])\n",
    "print(\"A =\", A1)\n",
    "\n",
    "print(\"\\nEste arreglo tiene \" + str(A1.ndim) + \" dimensión.\")"
   ]
  },
  {
   "cell_type": "markdown",
   "metadata": {},
   "source": [
    "Pero se puede crear un arreglo de 1 dimensión, con más elementos. Al final podemos observar que las dimensiones corresponderían a las filas y las columnas no afectan la cantidad de dimensiones."
   ]
  },
  {
   "cell_type": "code",
   "execution_count": 51,
   "metadata": {},
   "outputs": [
    {
     "name": "stdout",
     "output_type": "stream",
     "text": [
      "A = [1 2 3]\n",
      "\n",
      "Este arreglo tiene 1 dimensiones.\n"
     ]
    }
   ],
   "source": [
    "A1 = np.array([1, 2, 3])\n",
    "print(\"A =\", A1)\n",
    "\n",
    "print(\"\\nEste arreglo tiene \" + str(A1.ndim) + \" dimensiones.\")"
   ]
  },
  {
   "cell_type": "markdown",
   "metadata": {},
   "source": [
    "Así, cada arreglo que se genere se limita a la cantidad de corchetes que se pueden tener dentro de otro par de corchetes.\n",
    "\n",
    "$A_n = \\begin{pmatrix} \n",
    "       n_{11} & n_{12} & n_{13} & \\cdots & n_{1C} \\\\\n",
    "       n_{21} & n_{22} & n_{23} & \\cdots & n_{2C} \\\\\n",
    "       n_{31} & n_{32} & n_{33} & \\cdots & n_{3C} \\\\\n",
    "       \\vdots & \\vdots & \\vdots & \\ddots & \\vdots \\\\\n",
    "       n_{R1} & n_{R2} & n_{R3} & \\cdots & n_{RC} \\\\\n",
    "\\end{pmatrix}$\n",
    "Por ejemplo: \n",
    "$A = \\begin{pmatrix} \n",
    "       1 & 2 & 3\\\\\n",
    "       4 & 5 & 6\\\\\n",
    "       7 & 8 & 9\\\\\n",
    "\\end{pmatrix}$"
   ]
  },
  {
   "cell_type": "code",
   "execution_count": 76,
   "metadata": {},
   "outputs": [
    {
     "name": "stdout",
     "output_type": "stream",
     "text": [
      "[[1 2 3]\n",
      " [4 5 6]\n",
      " [7 8 9]]\n",
      "\n",
      "Este arreglo tiene 2 dimensiones.\n"
     ]
    }
   ],
   "source": [
    "A = np.array([\n",
    "#eje 0  1  2\n",
    "    [1, 2, 3], # 0\n",
    "    [4, 5, 6], # 1\n",
    "    [7, 8, 9]  # 2\n",
    "])\n",
    "print(A)\n",
    "print(\"\\nEste arreglo tiene \" + str(A.ndim) + \" dimensiones.\")"
   ]
  },
  {
   "cell_type": "markdown",
   "metadata": {},
   "source": [
    "También se puede obtener el tamaño de la matriz, es decir, la cantidad de elementos que contiene. Esto se realiza con el método `size`."
   ]
  },
  {
   "cell_type": "code",
   "execution_count": 59,
   "metadata": {},
   "outputs": [
    {
     "name": "stdout",
     "output_type": "stream",
     "text": [
      "El arreglo anterior contiene 9 elementos.\n"
     ]
    }
   ],
   "source": [
    "print(\"El arreglo anterior contiene \" + str(A.size) + \" elementos.\")"
   ]
  },
  {
   "cell_type": "markdown",
   "metadata": {},
   "source": [
    "En los arreglos de NumPy se puede acceder a los elementos de igual forma que en las listas de Python. Mediante notación de índices."
   ]
  },
  {
   "cell_type": "code",
   "execution_count": 64,
   "metadata": {},
   "outputs": [
    {
     "name": "stdout",
     "output_type": "stream",
     "text": [
      "B = [0 1 2 3 4 5]\n",
      "\n",
      "B[0] = 0\n",
      "B[:] = [0 1 2 3 4 5]\n",
      "B[0:-1] = [0 1 2 3 4]\n",
      "B[::2] = [0 2 4]\n"
     ]
    }
   ],
   "source": [
    "B = np.array([0,1,2,3,4,5])\n",
    "print(\"B =\", B)\n",
    "\n",
    "print(\"\\nB[0] =\", B[0])\n",
    "print(\"B[:] =\", B[:])\n",
    "print(\"B[0:-1] =\", B[0:-1])\n",
    "print(\"B[::2] =\", B[::2])"
   ]
  },
  {
   "cell_type": "markdown",
   "metadata": {},
   "source": [
    "Además de esto, se pueden acceder a los elementos de una matriz de más dimensiones. Esto se hace con varios índices entre corchetes que van seguidos.\n",
    "\n",
    "*A[dimN][elementMdeN]*\n",
    "\n",
    "O bien, usando una coma para especificar cada índice de cada dimensión.\n",
    "\n",
    "*A[dim1, dim2, dim3, ..., dimN]*"
   ]
  },
  {
   "cell_type": "code",
   "execution_count": 70,
   "metadata": {},
   "outputs": [
    {
     "name": "stdout",
     "output_type": "stream",
     "text": [
      "[[1 2 3]\n",
      " [4 5 6]\n",
      " [7 8 9]]\n",
      "\n",
      "A[1][0] = 4\n",
      "A[1, 0] = 4\n"
     ]
    }
   ],
   "source": [
    "print(A)\n",
    "print(\"\\nA[1][0] =\", A[1][0])\n",
    "print(\"A[1, 0] =\", A[1, 0])"
   ]
  },
  {
   "cell_type": "code",
   "execution_count": 75,
   "metadata": {},
   "outputs": [
    {
     "name": "stdout",
     "output_type": "stream",
     "text": [
      "[[1 2]\n",
      " [4 5]\n",
      " [7 8]]\n"
     ]
    }
   ],
   "source": [
    "print(A[:, :2])   #Se toman todos los elementos de la primer dimensión y se escogen los elementos desde el primero hasta uno antes del índice 2."
   ]
  },
  {
   "cell_type": "code",
   "execution_count": 78,
   "metadata": {},
   "outputs": [
    {
     "name": "stdout",
     "output_type": "stream",
     "text": [
      "[[1 2]\n",
      " [4 5]]\n"
     ]
    }
   ],
   "source": [
    "print(A[:2, :2])"
   ]
  },
  {
   "cell_type": "code",
   "execution_count": 79,
   "metadata": {},
   "outputs": [
    {
     "name": "stdout",
     "output_type": "stream",
     "text": [
      "[[3]\n",
      " [6]]\n"
     ]
    }
   ],
   "source": [
    "print(A[:2, 2:])"
   ]
  },
  {
   "cell_type": "markdown",
   "metadata": {},
   "source": [
    "También, se pueden modificar los valores que contiene un arreglo a través de su indexación."
   ]
  },
  {
   "cell_type": "code",
   "execution_count": 81,
   "metadata": {},
   "outputs": [
    {
     "name": "stdout",
     "output_type": "stream",
     "text": [
      "[[1 2 3]\n",
      " [0 0 0]\n",
      " [7 8 9]]\n"
     ]
    }
   ],
   "source": [
    "A[1] = np.array([0, 0, 0])\n",
    "print(A)"
   ]
  },
  {
   "cell_type": "markdown",
   "metadata": {},
   "source": [
    "O bien, sólo colocando un número, el cual NumPy resolverá para colocar a todos los miembros del índice que se seleccione."
   ]
  },
  {
   "cell_type": "code",
   "execution_count": 82,
   "metadata": {},
   "outputs": [
    {
     "name": "stdout",
     "output_type": "stream",
     "text": [
      "[[1 2 3]\n",
      " [0 0 0]\n",
      " [1 1 1]]\n"
     ]
    }
   ],
   "source": [
    "A[2] = 1\n",
    "print(A)"
   ]
  },
  {
   "cell_type": "markdown",
   "metadata": {},
   "source": [
    "## Estadística con arrays en NumPy\n",
    "\n",
    "NumPy viene con un montón de otros métodos incluidos, como la suma de todos los elementos del array o algunos otros utilizados en estadística también."
   ]
  },
  {
   "cell_type": "code",
   "execution_count": 85,
   "metadata": {},
   "outputs": [
    {
     "data": {
      "text/plain": [
       "15"
      ]
     },
     "execution_count": 85,
     "metadata": {},
     "output_type": "execute_result"
    }
   ],
   "source": [
    "B.sum() # Suma de todos los elementos."
   ]
  },
  {
   "cell_type": "code",
   "execution_count": 86,
   "metadata": {},
   "outputs": [
    {
     "data": {
      "text/plain": [
       "2.5"
      ]
     },
     "execution_count": 86,
     "metadata": {},
     "output_type": "execute_result"
    }
   ],
   "source": [
    "B.mean() # La media aritmética de los elementos."
   ]
  },
  {
   "cell_type": "code",
   "execution_count": 87,
   "metadata": {},
   "outputs": [
    {
     "data": {
      "text/plain": [
       "1.707825127659933"
      ]
     },
     "execution_count": 87,
     "metadata": {},
     "output_type": "execute_result"
    }
   ],
   "source": [
    "B.std() # La desviación estándar de los elementos."
   ]
  },
  {
   "cell_type": "code",
   "execution_count": 88,
   "metadata": {},
   "outputs": [
    {
     "data": {
      "text/plain": [
       "2.9166666666666665"
      ]
     },
     "execution_count": 88,
     "metadata": {},
     "output_type": "execute_result"
    }
   ],
   "source": [
    "B.var() # La varianza asociada a estos elementos."
   ]
  },
  {
   "cell_type": "code",
   "execution_count": 94,
   "metadata": {},
   "outputs": [
    {
     "name": "stdout",
     "output_type": "stream",
     "text": [
      "[[1 2 3]\n",
      " [4 5 6]\n",
      " [7 8 9]]\n",
      "\n",
      "Suma = 45\n",
      "Media artimética = 5.0\n",
      "Desviación estándar = 2.581988897471611\n",
      "Varianza = 6.666666666666667\n"
     ]
    }
   ],
   "source": [
    "A = np.array([\n",
    "    [1, 2, 3],\n",
    "    [4, 5, 6],\n",
    "    [7, 8, 9]\n",
    "])\n",
    "print(A)\n",
    "\n",
    "print(\"\\nSuma =\", A.sum())\n",
    "print(\"Media artimética =\", A.mean())\n",
    "print(\"Desviación estándar =\", A.std())\n",
    "print(\"Varianza =\", A.var())"
   ]
  },
  {
   "cell_type": "markdown",
   "metadata": {},
   "source": [
    "Algo útil, es que se pueden realizar estas mismas operaciones a los *ejes* del arreglo."
   ]
  },
  {
   "cell_type": "code",
   "execution_count": 102,
   "metadata": {},
   "outputs": [
    {
     "name": "stdout",
     "output_type": "stream",
     "text": [
      "suma del eje 0: [12 15 18]\n",
      "suma del eje 1: [ 6 15 24]\n"
     ]
    }
   ],
   "source": [
    "print(\"suma del eje 0:\", A.sum(axis=0)) # Se suman los valores de las columnas y se obtiene un arreglo con la cantidad de resultados igual a la de columnas.\n",
    "print(\"suma del eje 1:\", A.sum(axis=1))"
   ]
  },
  {
   "cell_type": "code",
   "execution_count": 97,
   "metadata": {},
   "outputs": [
    {
     "data": {
      "text/plain": [
       "array([4., 5., 6.])"
      ]
     },
     "execution_count": 97,
     "metadata": {},
     "output_type": "execute_result"
    }
   ],
   "source": [
    "A.mean(axis=0)"
   ]
  },
  {
   "cell_type": "code",
   "execution_count": 98,
   "metadata": {},
   "outputs": [
    {
     "data": {
      "text/plain": [
       "array([0.81649658, 0.81649658, 0.81649658])"
      ]
     },
     "execution_count": 98,
     "metadata": {},
     "output_type": "execute_result"
    }
   ],
   "source": [
    "A.std(axis=1)"
   ]
  },
  {
   "cell_type": "markdown",
   "metadata": {},
   "source": [
    "# Operaciones vectorizadas"
   ]
  }
 ],
 "metadata": {
  "kernelspec": {
   "display_name": "Python 3",
   "language": "python",
   "name": "python3"
  },
  "language_info": {
   "codemirror_mode": {
    "name": "ipython",
    "version": 3
   },
   "file_extension": ".py",
   "mimetype": "text/x-python",
   "name": "python",
   "nbconvert_exporter": "python",
   "pygments_lexer": "ipython3",
   "version": "3.8.5"
  }
 },
 "nbformat": 4,
 "nbformat_minor": 4
}
